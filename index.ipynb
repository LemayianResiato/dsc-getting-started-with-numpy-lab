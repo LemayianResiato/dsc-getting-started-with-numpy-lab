{
 "cells": [
  {
   "cell_type": "markdown",
   "metadata": {},
   "source": [
    "# Getting Started with NumPy - Lab"
   ]
  },
  {
   "cell_type": "markdown",
   "metadata": {},
   "source": [
    "## Introduction"
   ]
  },
  {
   "cell_type": "markdown",
   "metadata": {},
   "source": [
    "Now that we have introduced NumPy, let's put it to practice. In this lab, you are going to be creating arrays, performing operations on them, and returning new arrays all using the NumPy library. Let's get started!"
   ]
  },
  {
   "cell_type": "markdown",
   "metadata": {},
   "source": [
    "## Objectives\n",
    "\n",
    "You will be able to: \n",
    "\n",
    "- Instantiate a numpy array with specified values \n",
    "- Use broadcasting to perform a math operation on an entire numpy array \n"
   ]
  },
  {
   "cell_type": "markdown",
   "metadata": {},
   "source": [
    "## Import `NumPy` under the standard alias"
   ]
  },
  {
   "cell_type": "code",
   "execution_count": 1,
   "metadata": {},
   "outputs": [],
   "source": [
    "# Import numpy using the standard alias\n",
    "import numpy as np"
   ]
  },
  {
   "cell_type": "markdown",
   "metadata": {},
   "source": [
    "## Generate some mock data"
   ]
  },
  {
   "cell_type": "markdown",
   "metadata": {},
   "source": [
    "Create a NumPy array for each of the following:\n",
    "    1. Using a range\n",
    "    2. Using a Python list\n",
    "    \n",
    "Below, create a list in Python that has 5 elements (i.e. [0,1,2,3,4]) and assign it to the variable `py_list`. \n",
    "\n",
    "Next, do the same, but instead of a list, create a range with 5 elements and assign it to the variable, `py_range`.\n",
    "\n",
    "Finally, use the list and range to create NumPy arrays and assign the array from list to the variable `array_from_list`, and the array from the range to the variable `array_from_range`."
   ]
  },
  {
   "cell_type": "code",
   "execution_count": 12,
   "metadata": {},
   "outputs": [
    {
     "data": {
      "text/plain": [
       "array([ 20,  40,  60,  80, 100])"
      ]
     },
     "execution_count": 12,
     "metadata": {},
     "output_type": "execute_result"
    }
   ],
   "source": [
    "# Your code here\n",
    "py_list = [0, 10, 20, 30, 40] #Creating a list\n",
    "py_range = range(20, 70, 10) #Creating a range #20, 30, 40, 50, 60\n",
    "array_from_list = np.array(py_list) #Generating an array from py_list\n",
    "array_from_range = np.array(py_range) #Generating an arrayfrom py_range\n",
    "array_from_list + array_from_range #Add the two"
   ]
  },
  {
   "cell_type": "code",
   "execution_count": 10,
   "metadata": {},
   "outputs": [
    {
     "data": {
      "text/plain": [
       "numpy.ndarray"
      ]
     },
     "execution_count": 10,
     "metadata": {},
     "output_type": "execute_result"
    }
   ],
   "source": [
    "type(array_from_list)"
   ]
  },
  {
   "cell_type": "code",
   "execution_count": 11,
   "metadata": {},
   "outputs": [
    {
     "data": {
      "text/plain": [
       "numpy.ndarray"
      ]
     },
     "execution_count": 11,
     "metadata": {},
     "output_type": "execute_result"
    }
   ],
   "source": [
    "type(array_from_range)"
   ]
  },
  {
   "cell_type": "markdown",
   "metadata": {},
   "source": [
    "Next, we have a list of heights and weights and we'd like to use them to create a collection of BMIs. However, they are both in inches and pounds (imperial system), respectively. \n",
    "\n",
    "Let's use what we know to create NumPy arrays with the metric equivalent values (height in meters & weight in kg).\n",
    "\n",
    "> **Remember:** *NumPy can make these calculations a lot easier and with less code than a list!*"
   ]
  },
  {
   "cell_type": "markdown",
   "metadata": {},
   "source": [
    "> 1.0 inch = 0.0254 meters\n",
    "\n",
    "> 2.2046 lbs = 1 kilogram"
   ]
  },
  {
   "cell_type": "code",
   "execution_count": 15,
   "metadata": {},
   "outputs": [
    {
     "data": {
      "text/plain": [
       "array([1.651 , 1.7272, 1.8542, 1.905 , 1.9812])"
      ]
     },
     "execution_count": 15,
     "metadata": {},
     "output_type": "execute_result"
    }
   ],
   "source": [
    "# Use the conversion rate for turning height in inches to meters\n",
    "list_height_inches = [65, 68, 73, 75, 78]\n",
    "\n",
    "# Your code here\n",
    "array_height_inches = np.array(list_height_inches)\n",
    "array_height_meters = array_height_inches * 0.0254\n",
    "array_height_meters"
   ]
  },
  {
   "cell_type": "code",
   "execution_count": 17,
   "metadata": {},
   "outputs": [
    {
     "data": {
      "text/plain": [
       "array([ 68.03955366,  63.50358342,  99.79134537,  92.98739   ,\n",
       "       120.20321147])"
      ]
     },
     "execution_count": 17,
     "metadata": {},
     "output_type": "execute_result"
    }
   ],
   "source": [
    "# Use the conversion rate for turning weight in pounds to kilograms\n",
    "list_weight_pounds = [150, 140, 220, 205, 265]\n",
    "\n",
    "# Your code here\n",
    "array_weight_pounds = np.array(list_weight_pounds)\n",
    "array_weight_kg = array_weight_pounds / 2.2046\n",
    "array_weight_kg"
   ]
  },
  {
   "cell_type": "markdown",
   "metadata": {},
   "source": [
    "The metric formula for calculating BMI is as follows:\n",
    "\n",
    "> BMI = weight (kg) ÷ height^2 (m^2)\n",
    "\n",
    "So, to get BMI we divide weight by the squared value of height. For example, if I weighed 130kg and was 1.9 meters tall, the calculation would look like:\n",
    "\n",
    "> BMI = 130 / (1.9*1.9)\n",
    "\n",
    "Use the BMI calculation to create a NumPy array of BMIs"
   ]
  },
  {
   "cell_type": "code",
   "execution_count": 8,
   "metadata": {},
   "outputs": [
    {
     "data": {
      "text/plain": [
       "array([10.24    ,  5.01    ,  3.34    ,  2.503125])"
      ]
     },
     "execution_count": 8,
     "metadata": {},
     "output_type": "execute_result"
    }
   ],
   "source": [
    "# Your code here\n",
    "list_weight_kg = [1024, 2004, 3006, 4005]\n",
    "list_height_m = [10, 20, 30, 40]\n",
    "array_weight_kg = np.array(list_weight_kg)\n",
    "array_height_m  = np.array(list_height_m)\n",
    "BMI_array = array_weight_kg / (array_height_m ** 2)\n",
    "BMI_array"
   ]
  },
  {
   "cell_type": "markdown",
   "metadata": {},
   "source": [
    "## Create a vector of ones the same size as your BMI vector using `np.ones()`"
   ]
  },
  {
   "cell_type": "code",
   "execution_count": 6,
   "metadata": {},
   "outputs": [
    {
     "data": {
      "text/plain": [
       "array([1., 1., 1., 1.])"
      ]
     },
     "execution_count": 6,
     "metadata": {},
     "output_type": "execute_result"
    }
   ],
   "source": [
    "# Your code here\n",
    "identity = np.ones(4)\n",
    "identity"
   ]
  },
  {
   "cell_type": "markdown",
   "metadata": {},
   "source": [
    "## Multiply the BMI_array by your vector of ones\n",
    "The resulting product should have the same values as your original BMI numpy array."
   ]
  },
  {
   "cell_type": "code",
   "execution_count": 9,
   "metadata": {},
   "outputs": [
    {
     "data": {
      "text/plain": [
       "array([10.24    ,  5.01    ,  3.34    ,  2.503125])"
      ]
     },
     "execution_count": 9,
     "metadata": {},
     "output_type": "execute_result"
    }
   ],
   "source": [
    "# Your code here\n",
    "np.multiply(BMI_array, identity)"
   ]
  },
  {
   "cell_type": "markdown",
   "metadata": {},
   "source": [
    "## Level Up: Using NumPy to Parse a File\n",
    "The Pandas library that we've been using is built on top of NumPy; all columns/series in a Pandas DataFrame are built using NumPy arrays. To get a better idea of a how a built-in method like `pd.read_csv()` works, we'll try and recreate that here!"
   ]
  },
  {
   "cell_type": "code",
   "execution_count": null,
   "metadata": {},
   "outputs": [],
   "source": [
    "# Open a text file (csv files are just plaintext separated by commas)\n",
    "f = open('bp.txt')\n",
    "n_rows = len(f.readlines())\n",
    "# Print number of lines in the file\n",
    "print('The file has {} lines.'.format(n_rows)) \n",
    "# After using readlines, we must reopen the file\n",
    "f = open('bp.txt') \n",
    "# The file has values separated by tabs; we read the first line and check it's length \n",
    "n_cols = (len(f.readline().split('\\t'))) \n",
    "\n",
    "f = open('bp.txt')\n",
    "\n",
    "# Your code here\n",
    "# Pseudocode outline below\n",
    "#1) Create a matrix of zeros that is the same size of the file\n",
    "#2) Iterate through the file: \"for line in f:\" Hint: using enumerate will also be required\n",
    "    #3) Update each row of the matrix with the new stream of data\n",
    "    #Hint: skip the first row (it's just column names, not the data.)\n",
    "#4) Preview your results; you should now have a NumPy matrix with the data from the file\n"
   ]
  },
  {
   "cell_type": "code",
   "execution_count": 10,
   "metadata": {},
   "outputs": [
    {
     "name": "stdout",
     "output_type": "stream",
     "text": [
      "[[  1.   105.    47.    85.4    1.75   5.1   63.    33.  ]\n",
      " [  2.   115.    49.    94.2    2.1    3.8   70.    14.  ]\n",
      " [  3.   116.    49.    95.3    1.98   8.2   72.    10.  ]\n",
      " [  4.   117.    50.    94.7    2.01   5.8   73.    99.  ]\n",
      " [  5.   112.    51.    89.4    1.89   7.    72.    95.  ]\n",
      " [  6.   121.    48.    99.5    2.25   9.3   71.    10.  ]\n",
      " [  7.   121.    49.    99.8    2.25   2.5   69.    42.  ]\n",
      " [  8.   110.    47.    90.9    1.9    6.2   66.     8.  ]\n",
      " [  9.   110.    49.    89.2    1.83   7.1   69.    62.  ]\n",
      " [ 10.   114.    48.    92.7    2.07   5.6   64.    35.  ]\n",
      " [ 11.   114.    47.    94.4    2.07   5.3   74.    90.  ]\n",
      " [ 12.   115.    49.    94.1    1.98   5.6   71.    21.  ]\n",
      " [ 13.   114.    50.    91.6    2.05  10.2   68.    47.  ]\n",
      " [ 14.   106.    45.    87.1    1.92   5.6   67.    80.  ]\n",
      " [ 15.   125.    52.   101.3    2.19  10.    76.    98.  ]\n",
      " [ 16.   114.    46.    94.5    1.98   7.4   69.    95.  ]\n",
      " [ 17.   106.    46.    87.     1.87   3.6   62.    18.  ]\n",
      " [ 18.   113.    46.    94.5    1.9    4.3   70.    12.  ]\n",
      " [ 19.   110.    48.    90.5    1.88   9.    71.    99.  ]\n",
      " [ 20.   122.    56.    95.7    2.09   7.    75.    99.  ]]\n"
     ]
    }
   ],
   "source": [
    "import numpy as np\n",
    "\n",
    "# Open the file and count the number of rows and columns\n",
    "with open('bp.txt') as f:\n",
    "    lines = f.readlines()\n",
    "    n_rows = len(lines) - 1  # Exclude the header row\n",
    "    n_cols = len(lines[0].split('\\t'))\n",
    "\n",
    "# Create a NumPy array of zeros with the same number of rows and columns\n",
    "data_matrix = np.zeros((n_rows, n_cols))\n",
    "\n",
    "# Open the file again to read and parse data into the matrix\n",
    "with open('bp.txt') as f:\n",
    "    next(f)  # Skip the header row\n",
    "    for i, line in enumerate(f):\n",
    "        # Split the line by tab, convert each value to float, and populate the matrix\n",
    "        data_matrix[i] = np.array(line.split('\\t'), dtype=float)\n",
    "\n",
    "# Print the resulting NumPy matrix\n",
    "print(data_matrix)"
   ]
  },
  {
   "cell_type": "code",
   "execution_count": 11,
   "metadata": {},
   "outputs": [
    {
     "name": "stdout",
     "output_type": "stream",
     "text": [
      "[[  1.   105.    47.    85.4    1.75   5.1   63.    33.  ]\n",
      " [  2.   115.    49.    94.2    2.1    3.8   70.    14.  ]\n",
      " [  3.   116.    49.    95.3    1.98   8.2   72.    10.  ]\n",
      " [  4.   117.    50.    94.7    2.01   5.8   73.    99.  ]\n",
      " [  5.   112.    51.    89.4    1.89   7.    72.    95.  ]\n",
      " [  6.   121.    48.    99.5    2.25   9.3   71.    10.  ]\n",
      " [  7.   121.    49.    99.8    2.25   2.5   69.    42.  ]\n",
      " [  8.   110.    47.    90.9    1.9    6.2   66.     8.  ]\n",
      " [  9.   110.    49.    89.2    1.83   7.1   69.    62.  ]\n",
      " [ 10.   114.    48.    92.7    2.07   5.6   64.    35.  ]\n",
      " [ 11.   114.    47.    94.4    2.07   5.3   74.    90.  ]\n",
      " [ 12.   115.    49.    94.1    1.98   5.6   71.    21.  ]\n",
      " [ 13.   114.    50.    91.6    2.05  10.2   68.    47.  ]\n",
      " [ 14.   106.    45.    87.1    1.92   5.6   67.    80.  ]\n",
      " [ 15.   125.    52.   101.3    2.19  10.    76.    98.  ]\n",
      " [ 16.   114.    46.    94.5    1.98   7.4   69.    95.  ]\n",
      " [ 17.   106.    46.    87.     1.87   3.6   62.    18.  ]\n",
      " [ 18.   113.    46.    94.5    1.9    4.3   70.    12.  ]\n",
      " [ 19.   110.    48.    90.5    1.88   9.    71.    99.  ]\n",
      " [ 20.   122.    56.    95.7    2.09   7.    75.    99.  ]\n",
      " [  0.     0.     0.     0.     0.     0.     0.     0.  ]]\n"
     ]
    }
   ],
   "source": [
    "import numpy as np\n",
    "\n",
    "# Open the file\n",
    "f = open('bp.txt')\n",
    "\n",
    "# Get the number of rows and columns\n",
    "n_rows = len(f.readlines())\n",
    "f.seek(0)  # Reset the file pointer to the beginning\n",
    "n_cols = len(f.readline().split('\\t'))\n",
    "\n",
    "# Create a NumPy matrix of zeros\n",
    "data = np.zeros((n_rows, n_cols))\n",
    "\n",
    "# Iterate through the file, skipping the header row\n",
    "f.seek(0)  # Reset the file pointer to the beginning\n",
    "header = f.readline()  # Read the header row\n",
    "for i, line in enumerate(f):\n",
    "    row_data = line.strip().split('\\t')\n",
    "    data[i] = row_data\n",
    "\n",
    "# Preview the results\n",
    "print(data)"
   ]
  },
  {
   "cell_type": "markdown",
   "metadata": {},
   "source": [
    "## Summary"
   ]
  },
  {
   "cell_type": "markdown",
   "metadata": {},
   "source": [
    "In this lab, we practiced creating NumPy arrays from both lists and ranges. We then practiced performing math operations like converting imperial measurements to metric measurements on each element of a NumPy array to create new arrays with new values. Finally, we used both of our new NumPy arrays to operate on each other and create new arrays containing the BMIs from our arrays containing heights and weights."
   ]
  },
  {
   "cell_type": "code",
   "execution_count": 3,
   "metadata": {},
   "outputs": [
    {
     "data": {
      "text/plain": [
       "[10, 20, 30, 40, 50]"
      ]
     },
     "execution_count": 3,
     "metadata": {},
     "output_type": "execute_result"
    }
   ],
   "source": [
    "py_list = list(range(10, 60, 10))\n",
    "py_list"
   ]
  },
  {
   "cell_type": "code",
   "execution_count": null,
   "metadata": {},
   "outputs": [],
   "source": []
  }
 ],
 "metadata": {
  "kernelspec": {
   "display_name": "Python 3",
   "language": "python",
   "name": "python3"
  },
  "language_info": {
   "codemirror_mode": {
    "name": "ipython",
    "version": 3
   },
   "file_extension": ".py",
   "mimetype": "text/x-python",
   "name": "python",
   "nbconvert_exporter": "python",
   "pygments_lexer": "ipython3",
   "version": "3.8.5"
  }
 },
 "nbformat": 4,
 "nbformat_minor": 2
}
